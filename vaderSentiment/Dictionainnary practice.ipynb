{
 "cells": [
  {
   "cell_type": "code",
   "execution_count": 1,
   "metadata": {},
   "outputs": [
    {
     "ename": "KeyError",
     "evalue": "'hello'",
     "output_type": "error",
     "traceback": [
      "\u001b[1;31m---------------------------------------------------------------------------\u001b[0m",
      "\u001b[1;31mKeyError\u001b[0m                                  Traceback (most recent call last)",
      "\u001b[1;32m<ipython-input-1-2ed06734c064>\u001b[0m in \u001b[0;36m<module>\u001b[1;34m\u001b[0m\n\u001b[0;32m      1\u001b[0m \u001b[0md\u001b[0m \u001b[1;33m=\u001b[0m \u001b[1;33m{\u001b[0m\u001b[1;34m'bye'\u001b[0m\u001b[1;33m:\u001b[0m \u001b[1;34m'hoscakal'\u001b[0m\u001b[1;33m}\u001b[0m\u001b[1;33m\u001b[0m\u001b[1;33m\u001b[0m\u001b[0m\n\u001b[1;32m----> 2\u001b[1;33m \u001b[0md\u001b[0m\u001b[1;33m[\u001b[0m\u001b[1;34m'hello'\u001b[0m\u001b[1;33m]\u001b[0m\u001b[1;33m\u001b[0m\u001b[1;33m\u001b[0m\u001b[0m\n\u001b[0m",
      "\u001b[1;31mKeyError\u001b[0m: 'hello'"
     ]
    }
   ],
   "source": [
    "d = {'bye': 'hoscakal'}\n",
    "d['hello']"
   ]
  },
  {
   "cell_type": "code",
   "execution_count": 2,
   "metadata": {},
   "outputs": [
    {
     "data": {
      "text/plain": [
       "'hoscakal'"
      ]
     },
     "execution_count": 2,
     "metadata": {},
     "output_type": "execute_result"
    }
   ],
   "source": [
    "d['bye']"
   ]
  },
  {
   "cell_type": "code",
   "execution_count": 3,
   "metadata": {},
   "outputs": [
    {
     "data": {
      "text/plain": [
       "dict_keys(['bye'])"
      ]
     },
     "execution_count": 3,
     "metadata": {},
     "output_type": "execute_result"
    }
   ],
   "source": [
    "d.keys()"
   ]
  },
  {
   "cell_type": "code",
   "execution_count": 4,
   "metadata": {},
   "outputs": [
    {
     "data": {
      "text/plain": [
       "dict_items([('bye', 'hoscakal')])"
      ]
     },
     "execution_count": 4,
     "metadata": {},
     "output_type": "execute_result"
    }
   ],
   "source": [
    "d.items()"
   ]
  },
  {
   "cell_type": "code",
   "execution_count": 5,
   "metadata": {},
   "outputs": [
    {
     "data": {
      "text/plain": [
       "dict_values(['hoscakal'])"
      ]
     },
     "execution_count": 5,
     "metadata": {},
     "output_type": "execute_result"
    }
   ],
   "source": [
    "d.values()"
   ]
  },
  {
   "cell_type": "code",
   "execution_count": 6,
   "metadata": {},
   "outputs": [
    {
     "data": {
      "text/plain": [
       "('bye', 'hoscakal')"
      ]
     },
     "execution_count": 6,
     "metadata": {},
     "output_type": "execute_result"
    }
   ],
   "source": [
    "d.popitem()"
   ]
  },
  {
   "cell_type": "code",
   "execution_count": 7,
   "metadata": {},
   "outputs": [
    {
     "data": {
      "text/plain": [
       "{}"
      ]
     },
     "execution_count": 7,
     "metadata": {},
     "output_type": "execute_result"
    }
   ],
   "source": [
    "d"
   ]
  },
  {
   "cell_type": "code",
   "execution_count": 8,
   "metadata": {},
   "outputs": [],
   "source": [
    "d = {'bye': 'hoscakal'}"
   ]
  },
  {
   "cell_type": "code",
   "execution_count": 9,
   "metadata": {},
   "outputs": [
    {
     "data": {
      "text/plain": [
       "{'bye': 'hoscakal'}"
      ]
     },
     "execution_count": 9,
     "metadata": {},
     "output_type": "execute_result"
    }
   ],
   "source": [
    "d"
   ]
  },
  {
   "cell_type": "code",
   "execution_count": 10,
   "metadata": {},
   "outputs": [
    {
     "ename": "TypeError",
     "evalue": "get expected at least 1 arguments, got 0",
     "output_type": "error",
     "traceback": [
      "\u001b[1;31m---------------------------------------------------------------------------\u001b[0m",
      "\u001b[1;31mTypeError\u001b[0m                                 Traceback (most recent call last)",
      "\u001b[1;32m<ipython-input-10-f25ddb505c67>\u001b[0m in \u001b[0;36m<module>\u001b[1;34m\u001b[0m\n\u001b[1;32m----> 1\u001b[1;33m \u001b[0md\u001b[0m\u001b[1;33m.\u001b[0m\u001b[0mget\u001b[0m\u001b[1;33m(\u001b[0m\u001b[1;33m)\u001b[0m\u001b[1;33m\u001b[0m\u001b[1;33m\u001b[0m\u001b[0m\n\u001b[0m",
      "\u001b[1;31mTypeError\u001b[0m: get expected at least 1 arguments, got 0"
     ]
    }
   ],
   "source": [
    "d.get()"
   ]
  },
  {
   "cell_type": "code",
   "execution_count": 11,
   "metadata": {},
   "outputs": [
    {
     "data": {
      "text/plain": [
       "'hoscakal'"
      ]
     },
     "execution_count": 11,
     "metadata": {},
     "output_type": "execute_result"
    }
   ],
   "source": [
    "d.get('bye')"
   ]
  },
  {
   "cell_type": "code",
   "execution_count": 12,
   "metadata": {},
   "outputs": [],
   "source": [
    "d.get('hello')"
   ]
  },
  {
   "cell_type": "code",
   "execution_count": 13,
   "metadata": {},
   "outputs": [
    {
     "name": "stdout",
     "output_type": "stream",
     "text": [
      "None\n"
     ]
    }
   ],
   "source": [
    "print(d.get('hello'))"
   ]
  },
  {
   "cell_type": "code",
   "execution_count": 14,
   "metadata": {},
   "outputs": [
    {
     "name": "stdout",
     "output_type": "stream",
     "text": [
      "merhaba\n"
     ]
    }
   ],
   "source": [
    "print(d.get('hello', 'merhaba'))"
   ]
  },
  {
   "cell_type": "code",
   "execution_count": 15,
   "metadata": {},
   "outputs": [
    {
     "data": {
      "text/plain": [
       "{'bye': 'hoscakal'}"
      ]
     },
     "execution_count": 15,
     "metadata": {},
     "output_type": "execute_result"
    }
   ],
   "source": [
    "d"
   ]
  },
  {
   "cell_type": "code",
   "execution_count": 26,
   "metadata": {},
   "outputs": [],
   "source": [
    "# write a dictionary with key and value that are not none.\n",
    "# how JSON file structure works\n",
    "# read and write distionary to the disk\n"
   ]
  },
  {
   "cell_type": "code",
   "execution_count": 4,
   "metadata": {},
   "outputs": [
    {
     "data": {
      "text/plain": [
       "{'kotu': -2.4,\n",
       " 'iyi': 1.1,\n",
       " 'hasta': -2.0,\n",
       " 'saglikli': 1.7,\n",
       " 'nefret': -3.2,\n",
       " 'sevgi': 2.5,\n",
       " 'kin': -1.9,\n",
       " 'asik': 1.8,\n",
       " 'temiz': 1.1,\n",
       " 'kirli': -1.8}"
      ]
     },
     "execution_count": 4,
     "metadata": {},
     "output_type": "execute_result"
    }
   ],
   "source": [
    "# create a turkish dictionary with 10 words\n",
    "turkish_words = {'kotu': -2.4, 'iyi': 1.1, 'hasta': -2.0, 'saglikli': 1.7, 'nefret': -3.2, 'sevgi': 2.5, 'kin': -1.9, 'asik': 1.8, 'temiz': 1.1, 'kirli': -1.8}\n",
    "turkish_words"
   ]
  },
  {
   "cell_type": "code",
   "execution_count": 5,
   "metadata": {},
   "outputs": [],
   "source": [
    "def sentiment_check(key):\n",
    "    return \"Score for %s\" % turkish_words.get(key, 'not available')"
   ]
  },
  {
   "cell_type": "code",
   "execution_count": 16,
   "metadata": {},
   "outputs": [
    {
     "data": {
      "text/plain": [
       "'1.1'"
      ]
     },
     "execution_count": 16,
     "metadata": {},
     "output_type": "execute_result"
    }
   ],
   "source": [
    "str(1.1)"
   ]
  },
  {
   "cell_type": "code",
   "execution_count": 15,
   "metadata": {},
   "outputs": [
    {
     "name": "stdout",
     "output_type": "stream",
     "text": [
      "Score for kotu -2.4\n",
      "Score for iyi 1.1\n",
      "Score for hasta -2.0\n",
      "Score for saglikli 1.7\n",
      "Score for nefret -3.2\n",
      "Score for sevgi 2.5\n",
      "Score for kin -1.9\n",
      "Score for asik 1.8\n",
      "Score for temiz 1.1\n",
      "Score for kirli -1.8\n"
     ]
    }
   ],
   "source": [
    "for key in turkish_words.keys():\n",
    "    value = turkish_words.get(key, 'not available')\n",
    "    print(\"Score for\", key, value)"
   ]
  },
  {
   "cell_type": "code",
   "execution_count": 20,
   "metadata": {},
   "outputs": [
    {
     "name": "stdout",
     "output_type": "stream",
     "text": [
      "{'kotu': -2.4, 'iyi': 1.1, 'hasta': -2.0, 'saglikli': 1.7, 'nefret': -3.2, 'sevgi': 2.5, 'kin': -1.9, 'asik': 1.8, 'temiz': 1.1, 'kirli': -1.8}\n"
     ]
    }
   ],
   "source": [
    "import json\n",
    "try:\n",
    "    turkish_words_cache = json.load(open(\"turkish_words_cache.json\"))\n",
    "except Exception as e:\n",
    "    print(e)\n",
    "    turkish_words_cache = {}\n",
    "print(turkish_words_cache)"
   ]
  },
  {
   "cell_type": "code",
   "execution_count": 24,
   "metadata": {},
   "outputs": [],
   "source": [
    "turkish_words_cache = {}"
   ]
  },
  {
   "cell_type": "code",
   "execution_count": 25,
   "metadata": {},
   "outputs": [
    {
     "name": "stdout",
     "output_type": "stream",
     "text": [
      "{'kotu': -2.4, 'iyi': 1.1, 'hasta': -2.0, 'saglikli': 1.7, 'nefret': -3.2}\n"
     ]
    }
   ],
   "source": [
    "for key in turkish_words.keys():\n",
    "    turkish_words_cache[key] = turkish_words.get(key, 'no_value')\n",
    "    if len(turkish_words_cache) > 4:\n",
    "        break\n",
    "print(turkish_words_cache)\n",
    "json.dump(turkish_words_cache, open(\"turkish_words_cache.json\", \"w\"))"
   ]
  },
  {
   "cell_type": "code",
   "execution_count": 21,
   "metadata": {},
   "outputs": [
    {
     "data": {
      "text/plain": [
       "10"
      ]
     },
     "execution_count": 21,
     "metadata": {},
     "output_type": "execute_result"
    }
   ],
   "source": [
    "len(turkish_words_cache)"
   ]
  },
  {
   "cell_type": "code",
   "execution_count": null,
   "metadata": {},
   "outputs": [],
   "source": [
    "for i, row in turkish_words.iterrows():\n",
    "    row = dict(row)\n",
    "    \n",
    "#    print(i)\n",
    "#    print(row)\n",
    "    english_word = row[0].strip()\n",
    "    turkish_word = english_turkish_cache.get(english_word)\n",
    "#    print(english_word, turkish_word)\n",
    "    if turkish_word is not None:\n",
    "        row[0] = turkish_word\n",
    "        turkishlanguagevader_lexicon.append(row)\n",
    "        continue\n",
    "#    elif english_word[0] in string.punctuation or english_word[0] in string.digits:\n",
    "#        continue\n",
    "    turkish_translated = translate_to_turkish(english_word)\n",
    "    english_turkish_cache[english_word] = turkish_word\n",
    "    if turkish_translated.text != english_word:\n",
    "        turkish_word = turkish_translated.text\n",
    "#        print(row)\n",
    "        row[0] = turkish_word\n",
    "        print(english_word, turkish_word)\n",
    "        turkishlanguagevader_lexicon.append(row)\n",
    "    if len(turkishlanguagevader_lexicon) > 10:\n",
    "        break\n",
    "    print()    \n",
    "json.dump(english_turkish_cache, open(\"english_turkish_cache.json\", \"w\"))"
   ]
  }
 ],
 "metadata": {
  "kernelspec": {
   "display_name": "Python 3",
   "language": "python",
   "name": "python3"
  },
  "language_info": {
   "codemirror_mode": {
    "name": "ipython",
    "version": 3
   },
   "file_extension": ".py",
   "mimetype": "text/x-python",
   "name": "python",
   "nbconvert_exporter": "python",
   "pygments_lexer": "ipython3",
   "version": "3.7.1"
  }
 },
 "nbformat": 4,
 "nbformat_minor": 2
}
